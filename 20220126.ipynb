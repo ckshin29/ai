{
  "nbformat": 4,
  "nbformat_minor": 0,
  "metadata": {
    "colab": {
      "name": "20220126.ipynb",
      "provenance": [],
      "authorship_tag": "ABX9TyPjvaSQ2+DImwoI3hZkp29a",
      "include_colab_link": true
    },
    "kernelspec": {
      "name": "python3",
      "display_name": "Python 3"
    },
    "language_info": {
      "name": "python"
    }
  },
  "cells": [
    {
      "cell_type": "markdown",
      "metadata": {
        "id": "view-in-github",
        "colab_type": "text"
      },
      "source": [
        "<a href=\"https://colab.research.google.com/github/ckshin29/ai/blob/main/20220126.ipynb\" target=\"_parent\"><img src=\"https://colab.research.google.com/assets/colab-badge.svg\" alt=\"Open In Colab\"/></a>"
      ]
    },
    {
      "cell_type": "code",
      "execution_count": 1,
      "metadata": {
        "colab": {
          "base_uri": "https://localhost:8080/"
        },
        "id": "oqnt01aP-DMM",
        "outputId": "044412f5-9785-420f-fdac-dff3f4cc2631"
      },
      "outputs": [
        {
          "output_type": "stream",
          "name": "stdout",
          "text": [
            "[1, 2, 3, 4, 5]\n",
            "[1, 2, 3, '대한', '민국', True, False]\n",
            "[80, 90, 70, 60]\n",
            "80\n",
            "[80, 90]\n",
            "[100, 90, 70, 60]\n",
            "[100, 90, 70, 100]\n"
          ]
        }
      ],
      "source": [
        "#####################################################\n",
        "# 리스트 List 튜플 Tuple 딕셔너리 Dict 셋 Set\n",
        "#####################################################\n",
        "\n",
        "#여러개의 값을 한번에 저장하는 자료형이 필요하다.\n",
        "\n",
        "# 리스트 List - 가장 많이 사용함\n",
        "# 지금까지 사용한 숫자1, 문자1 등 개별적, 독립적인 자료가 아닌 리스트는 이러한 자료들 여러개를 모아서 사용할 수 있게 해준다.\n",
        "\n",
        "# 리스트는 []로 구성한다.\n",
        "\n",
        "list = [1,2,3,4,5]\n",
        "print(list)\n",
        "\n",
        "#리스트는 다양한 자료형의 데이터를 한번에 담을 수 있다.\n",
        "# (but, 하나의 리스트에는 한가지 자료형만 저장하는 것이 오히려 바람직하다.)\n",
        "\n",
        "list = [1,2,3,'대한', '민국', True, False]\n",
        "print(list)\n",
        "\n",
        "score = [80,90,70,60]\n",
        "print(score)\n",
        "#리스트는 인덱싱과 슬라이싱이 가능하다.\n",
        "print(score[0]) #파이썬은 0부터 시작한다.\n",
        "print(score[0:2]) #슬라이싱은 0부터 2미만... 처럼 끝은 미만을 나타낸다.\n",
        "\n",
        "# 리스트는 수정/삭제가 가능하다. (mutable but 튜플은 immutable)\n",
        "\n",
        "score[0] = 100\n",
        "print(score)\n",
        "score[-1] = 100\n",
        "print(score)\n",
        "# score[4] #indexerror 아주 많이 접하게 될 에러 (에외)\n",
        "\n"
      ]
    },
    {
      "cell_type": "code",
      "source": [
        "# 리스트는 연산이 가능하다.\n",
        "list_a = [1,2,3]\n",
        "list_b = [4,5,6]\n",
        "\n",
        "print('list_a = ', list_a)\n",
        "print('list_b = ', list_b)\n",
        "\n",
        "print(list_a + list_b)\n",
        "print(list_a * 3)\n",
        "print(len(list_a)) \n",
        "\n",
        "# len 리스트의 갯수"
      ],
      "metadata": {
        "colab": {
          "base_uri": "https://localhost:8080/"
        },
        "id": "IrwmYG1iJc2E",
        "outputId": "d851052e-1ca9-4ed1-dfdf-3a6bbd52e78f"
      },
      "execution_count": 2,
      "outputs": [
        {
          "output_type": "stream",
          "name": "stdout",
          "text": [
            "list_a =  [1, 2, 3]\n",
            "list_b =  [4, 5, 6]\n",
            "[1, 2, 3, 4, 5, 6]\n",
            "[1, 2, 3, 1, 2, 3, 1, 2, 3]\n",
            "3\n"
          ]
        }
      ]
    },
    {
      "cell_type": "code",
      "source": [
        "# 리스트에 많이 사용되는 함수들...\n",
        "# append () 리스트에 요소를 추가할때 사용 끝에만 추가\n",
        "\n",
        "print(score)\n",
        "score.append(60)\n",
        "print(score)\n",
        "score.append(70)\n",
        "print(score)"
      ],
      "metadata": {
        "colab": {
          "base_uri": "https://localhost:8080/"
        },
        "id": "VYUh-WE6I7R9",
        "outputId": "57a91cdf-0a3a-4bfa-b143-acc5308e8d4b"
      },
      "execution_count": 3,
      "outputs": [
        {
          "output_type": "stream",
          "name": "stdout",
          "text": [
            "[100, 90, 70, 100]\n",
            "[100, 90, 70, 100, 60]\n",
            "[100, 90, 70, 100, 60, 70]\n"
          ]
        }
      ]
    },
    {
      "cell_type": "code",
      "source": [
        "# insert() 리스트에 요소를 추가 할때 사용, 특정위치를 지정하여 추가\n",
        "list = []\n",
        "list.insert(0,10)\n",
        "print(list)\n",
        "\n",
        "list.insert(1,50)\n",
        "print(list)"
      ],
      "metadata": {
        "colab": {
          "base_uri": "https://localhost:8080/"
        },
        "id": "WUOAtS_DJg5x",
        "outputId": "248f969d-fbbf-4a57-861d-5c2b018dc742"
      },
      "execution_count": 4,
      "outputs": [
        {
          "output_type": "stream",
          "name": "stdout",
          "text": [
            "[10]\n",
            "[10, 50]\n"
          ]
        }
      ]
    },
    {
      "cell_type": "code",
      "source": [
        "list_a = [1,2,3]\n",
        "list_a.extend([4,5,6]) #한번에 여러개 집어 넣을때 사용\n",
        "list_a"
      ],
      "metadata": {
        "colab": {
          "base_uri": "https://localhost:8080/"
        },
        "id": "8-Vi7U_CKAzj",
        "outputId": "17d27087-894c-41a0-dfeb-07aedef38941"
      },
      "execution_count": 5,
      "outputs": [
        {
          "output_type": "execute_result",
          "data": {
            "text/plain": [
              "[1, 2, 3, 4, 5, 6]"
            ]
          },
          "metadata": {},
          "execution_count": 5
        }
      ]
    },
    {
      "cell_type": "code",
      "source": [
        "list_a = [1,2,3]\n",
        "list_b = [4,5,6]\n",
        "print(list_a + list_b)\n",
        "print(list_a) #비파괴적 처리\n",
        "\n",
        "# 리스트 연결 만으로는 list_a 에 어떠한 영향도 주지 않는다.(비파괴적 처리)\n",
        "# 하지만 extend()를 사용하면 list_a 에 직접적으로 영향을 주게 된다. (파괴적 처리)\n",
        "\n",
        "# 원래 자료를 사용할 때는 비파괴적으로 사용하는 것이 바람직하다.\n",
        "# 가능하면 원본 데이터는 그대로 유지하고 사용하는 것이 선택지가 넓다. "
      ],
      "metadata": {
        "colab": {
          "base_uri": "https://localhost:8080/"
        },
        "id": "2ypuAzjtKraj",
        "outputId": "748ffacf-4f34-48f5-9409-f75f736e8283"
      },
      "execution_count": 6,
      "outputs": [
        {
          "output_type": "stream",
          "name": "stdout",
          "text": [
            "[1, 2, 3, 4, 5, 6]\n",
            "[1, 2, 3]\n"
          ]
        }
      ]
    },
    {
      "cell_type": "code",
      "source": [
        "# del() 리스트에서 데이터 삭제\n",
        "\n",
        "list_a = [0,1,2,3,4,5]\n",
        "del list_a[1] # index 값으로 위치값을 삭제\n",
        "print(list_a)\n",
        "\n",
        "del list_a[1:3] # 1부터 3미만 즉 2까지\n",
        "print(list_a)\n",
        "\n",
        "del list_a[:] # 생략하면 처음 : 생략하면 끝\n",
        "print(list_a)\n",
        "\n",
        "# list_a.clear() 리스트 요소를 전부 한번에 삭제"
      ],
      "metadata": {
        "colab": {
          "base_uri": "https://localhost:8080/"
        },
        "id": "lgHoEvfmMYdi",
        "outputId": "bbfec7c2-526a-4699-818c-f0a9e5bc985f"
      },
      "execution_count": 7,
      "outputs": [
        {
          "output_type": "stream",
          "name": "stdout",
          "text": [
            "[0, 2, 3, 4, 5]\n",
            "[0, 4, 5]\n",
            "[]\n"
          ]
        }
      ]
    },
    {
      "cell_type": "code",
      "source": [
        "# pop() 리스트에서 마지막 위치 데이터 삭제\n",
        "list_a.pop()\n",
        "list_a"
      ],
      "metadata": {
        "colab": {
          "base_uri": "https://localhost:8080/",
          "height": 213
        },
        "id": "W76XkWY3NF4W",
        "outputId": "6938fc1e-e2e3-4188-821d-a7a3c2238658"
      },
      "execution_count": 8,
      "outputs": [
        {
          "output_type": "error",
          "ename": "IndexError",
          "evalue": "ignored",
          "traceback": [
            "\u001b[0;31m---------------------------------------------------------------------------\u001b[0m",
            "\u001b[0;31mIndexError\u001b[0m                                Traceback (most recent call last)",
            "\u001b[0;32m<ipython-input-8-1fc49c72cc4d>\u001b[0m in \u001b[0;36m<module>\u001b[0;34m()\u001b[0m\n\u001b[1;32m      1\u001b[0m \u001b[0;31m# pop() 리스트에서 마지막 위치 데이터 삭제\u001b[0m\u001b[0;34m\u001b[0m\u001b[0;34m\u001b[0m\u001b[0;34m\u001b[0m\u001b[0m\n\u001b[0;32m----> 2\u001b[0;31m \u001b[0mlist_a\u001b[0m\u001b[0;34m.\u001b[0m\u001b[0mpop\u001b[0m\u001b[0;34m(\u001b[0m\u001b[0;34m)\u001b[0m\u001b[0;34m\u001b[0m\u001b[0;34m\u001b[0m\u001b[0m\n\u001b[0m\u001b[1;32m      3\u001b[0m \u001b[0mlist_a\u001b[0m\u001b[0;34m\u001b[0m\u001b[0;34m\u001b[0m\u001b[0m\n",
            "\u001b[0;31mIndexError\u001b[0m: pop from empty list"
          ]
        }
      ]
    },
    {
      "cell_type": "code",
      "source": [
        "list_a.pop(1)\n",
        "list_a"
      ],
      "metadata": {
        "id": "db1rGKJZNlEi"
      },
      "execution_count": null,
      "outputs": []
    },
    {
      "cell_type": "code",
      "source": [
        "# remove 값으로 삭제\n",
        "\n",
        "list_c = [1,2,1,2]\n",
        "list_c.remove(2) #remove 는 요소의 값을 찾아 삭제한다.\n",
        "                 # 동일한 값이 여러개 있을때는 하나씩 순차적으로 삭제한다.\n",
        "                 # 리스트에서 중복된 여러개의 값을 제거하려면 반복문을 사용한다.\n",
        "print(list_c)\n",
        "list_c.remove(2)\n",
        "print(list_c)\n"
      ],
      "metadata": {
        "id": "L8CTwhbGOlJv"
      },
      "execution_count": null,
      "outputs": []
    },
    {
      "cell_type": "code",
      "source": [
        "list = [1,2,3,4,5]\n",
        "print(list[0]) # indexing 비파괴적으로 동작한다.\n",
        "print(list)\n",
        "\n",
        "print(list.pop()) #pop은 파괴적으로 동작한다.\n",
        "orint(list)"
      ],
      "metadata": {
        "id": "jxr2D6SvPuxp"
      },
      "execution_count": null,
      "outputs": []
    },
    {
      "cell_type": "code",
      "source": [
        "# in / not in 리스트에 존재하는 요소인지를 확인\n",
        "\n",
        "list = [222,434,65,123,547,876]\n",
        "print(222 in list)\n",
        "list = [222,434,65,123,547,876]\n",
        "print(221 in list)\n",
        "print(221 not in list)\n",
        "\n"
      ],
      "metadata": {
        "colab": {
          "base_uri": "https://localhost:8080/"
        },
        "id": "XLkbfL1-QYlp",
        "outputId": "792c6d99-1f41-477f-dbc2-707ff2db53bd"
      },
      "execution_count": 10,
      "outputs": [
        {
          "output_type": "stream",
          "name": "stdout",
          "text": [
            "True\n",
            "False\n",
            "True\n"
          ]
        }
      ]
    }
  ]
}